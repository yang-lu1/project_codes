{
 "cells": [
  {
   "cell_type": "code",
   "execution_count": null,
   "id": "232433d3-e330-45d4-95fe-0abe87516c03",
   "metadata": {},
   "outputs": [],
   "source": [
    "\n",
    "from scipy.cluster.hierarchy import dendrogram\n",
    "import scipy.spatial.distance\n",
    "\n",
    "from sklearn.decomposition import TruncatedSVD\n",
    "from sklearn.cluster import AgglomerativeClustering, KMeans, k_means\n",
    "import pandas as pd\n",
    "import numpy as np\n",
    "\n",
    "import matplotlib.pyplot as plt"
   ]
  },
  {
   "cell_type": "code",
   "execution_count": null,
   "id": "87862f57-e507-4602-86ec-8d5a0ca68198",
   "metadata": {},
   "outputs": [],
   "source": [
    "df = pd.read_csv(\"2021.csv\")\n",
    "matrix = df[[\"Healthy life expectancy\", \"Ladder score\"]]"
   ]
  },
  {
   "cell_type": "code",
   "execution_count": null,
   "id": "a9340489-3fc7-49c8-805e-3b3634b0218d",
   "metadata": {},
   "outputs": [],
   "source": [
    "# Inertia scores to choose a good cluster number\n",
    "inertia_scores = []\n",
    "svd = TruncatedSVD(n_components=1)\n",
    "svd.fit(matrix)\n",
    "\n",
    "matrix_reduced_pt2 = svd.transform(matrix)"
   ]
  },
  {
   "cell_type": "code",
   "execution_count": null,
   "id": "c4e117d4-9c64-49b3-8245-f0ebc1b94566",
   "metadata": {},
   "outputs": [],
   "source": [
    "# redo clustering with random k values\n",
    "inertia_scores = []\n",
    "for test_k in set(np.random.randint(2, 120, 30)):\n",
    "\n",
    "    tmp_model = KMeans(n_clusters=test_k)\n",
    "    tmp_model.fit(matrix_reduced_pt2)\n",
    "\n",
    "    score = tmp_model.inertia_\n",
    "    inertia_scores.append((test_k, score))\n",
    "intertia_df = pd.DataFrame(inertia_scores, columns=[\"k\", \"score\"])\n",
    "fig = plt.figure(figsize=(16, 9))\n",
    "ax = fig.add_subplot(1, 1, 1)\n",
    "\n",
    "intertia_df.sort_values(by=\"k\").plot(\"k\", \"score\", ax=ax)\n",
    "print(intertia_df)\n",
    "ax.set_ylabel(\"Intertia\")\n",
    "plt.show()  # \"Elbow\" graph"
   ]
  },
  {
   "cell_type": "code",
   "execution_count": null,
   "id": "2bf2f20e-c5bd-4117-b2de-a4c6b4c80505",
   "metadata": {},
   "outputs": [],
   "source": [
    "# uncomment KMeans(..) and comment AgglomerativeClustering(...) to choose between the two models\n",
    "# model = KMeans(n_clusters=20)\n",
    "num_clusters = 20  # 20 is from inertia score/elbow graph estimate\n",
    "model = AgglomerativeClustering(n_clusters=num_clusters)\n",
    "model.fit(matrix)\n",
    "df[\"cluster\"] = model.labels_\n",
    "\n",
    "plt.scatter(matrix[\"Ladder score\"],\n",
    "            matrix[\"Healthy life expectancy\"], c=df[\"cluster\"])\n",
    "plt.show()  # scatterplot\n",
    "\n",
    "\n",
    "counter = 0\n",
    "while counter < num_clusters:\n",
    "    df2 = df.loc[df[\"cluster\"] == counter]\n",
    "    print(\"CLUSTER:\", counter)\n",
    "    print(df2[[\"Country name\", \"Regional indicator\",\n",
    "          \"Healthy life expectancy\", \"Ladder score\"]])\n",
    "    print(df2[\"Regional indicator\"].value_counts())\n",
    "    counter += 1"
   ]
  },
  {
   "cell_type": "code",
   "execution_count": null,
   "id": "425d8d53-6537-48c7-b43b-63532b27032f",
   "metadata": {},
   "outputs": [],
   "source": [
    "# measure similiarity with in the cluster 19\n",
    "newdf = df.set_index('Country name')\n",
    "newdf = df.loc[df[\"cluster\"] == 19]\n",
    "newdf = newdf[[\"Healthy life expectancy\", \"Ladder score\"]]\n",
    "\n",
    "newdf[\"points\"] = list(\n",
    "    zip(newdf[\"Healthy life expectancy\"], newdf[\"Ladder score\"]))\n",
    "points = newdf[\"points\"].values.tolist()\n",
    "\n",
    "\n",
    "sim = scipy.spatial.distance.cdist(points, points, 'euclidean')\n",
    "cluster_list = ['United States', 'Lithuania', \"Colombia\", \"Hungary\",\n",
    "                \"Nicaragua\", \"Peru\", \"Bosnia and Herzegovina\", \"Vietnam\"]\n",
    "simdf = pd.DataFrame(sim, columns=cluster_list)\n",
    "simdf[\"Country Name\"] = cluster_list\n",
    "simdf = simdf.set_index(\"Country Name\")\n",
    "print(simdf)"
   ]
  },
  {
   "cell_type": "code",
   "execution_count": null,
   "id": "3ab23a61-2d2d-4b33-90a5-2d82d50b7735",
   "metadata": {},
   "outputs": [],
   "source": [
    "# Dendrogram to show hierarchy of AgglomerativeClustering\n",
    "def plot_dendrogram(model, **kwargs):\n",
    "    # Create linkage matrix and then plot the dendrogram\n",
    "\n",
    "    # create the counts of samples under each node\n",
    "    counts = np.zeros(model.children_.shape[0])\n",
    "    n_samples = len(model.labels_)\n",
    "    for i, merge in enumerate(model.children_):\n",
    "        current_count = 0\n",
    "        for child_idx in merge:\n",
    "            if child_idx < n_samples:\n",
    "                current_count += 1  # leaf node\n",
    "            else:\n",
    "                current_count += counts[child_idx - n_samples]\n",
    "        counts[i] = current_count\n",
    "\n",
    "    linkage_matrix = np.column_stack(\n",
    "        [model.children_, model.distances_, counts]\n",
    "    ).astype(float)\n",
    "\n",
    "    # Plot the corresponding dendrogram\n",
    "    dendrogram(linkage_matrix, **kwargs)"
   ]
  },
  {
   "cell_type": "code",
   "execution_count": null,
   "id": "c7d97c44-c911-4b69-bded-e4c3de71eb8f",
   "metadata": {},
   "outputs": [],
   "source": [
    "# setting distance_threshold=0 ensures we compute the full tree.\n",
    "model = AgglomerativeClustering(distance_threshold=0, n_clusters=None)\n",
    "model = model.fit(matrix)\n",
    "fig = plt.figure(figsize=(16, 9))\n",
    "plt.title(\"Hierarchical Clustering Dendrogram\")\n",
    "# plot the top three levels of the dendrogram\n",
    "plot_dendrogram(model, truncate_mode=\"level\", p=3)\n",
    "plt.ylabel(\"Distance\")\n",
    "plt.xlabel(\"Number of points in node (or index of point if no parenthesis).\")\n",
    "plt.show()"
   ]
  },
  {
   "cell_type": "code",
   "execution_count": null,
   "id": "dd6c29d1-73a7-4beb-bd17-459e94ce1d47",
   "metadata": {},
   "outputs": [],
   "source": []
  }
 ],
 "metadata": {
  "kernelspec": {
   "display_name": "Python 3 (ipykernel)",
   "language": "python",
   "name": "python3"
  },
  "language_info": {
   "codemirror_mode": {
    "name": "ipython",
    "version": 3
   },
   "file_extension": ".py",
   "mimetype": "text/x-python",
   "name": "python",
   "nbconvert_exporter": "python",
   "pygments_lexer": "ipython3",
   "version": "3.9.0"
  }
 },
 "nbformat": 4,
 "nbformat_minor": 5
}
